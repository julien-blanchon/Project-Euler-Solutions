{
 "cells": [
  {
   "cell_type": "markdown",
   "metadata": {},
   "source": [
    "# Non-abundant sums\n",
    "## Problem 23"
   ]
  },
  {
   "cell_type": "markdown",
   "metadata": {},
   "source": [
    "A perfect number is a number for which the sum of its proper divisors is exactly equal to the number. For example, the sum of the proper divisors of 28 would be 1 + 2 + 4 + 7 + 14 = 28, which means that 28 is a perfect number.\n",
    "\n",
    "A number n is called deficient if the sum of its proper divisors is less than n and it is called abundant if this sum exceeds n.\n",
    "\n",
    "As 12 is the smallest abundant number, 1 + 2 + 3 + 4 + 6 = 16, the smallest number that can be written as the sum of two abundant numbers is 24. By mathematical analysis, it can be shown that all integers greater than 28123 can be written as the sum of two abundant numbers. However, this upper limit cannot be reduced any further by analysis even though it is known that the greatest number that cannot be expressed as the sum of two abundant numbers is less than this limit.\n",
    "\n",
    "Find the sum of all the positive integers which cannot be written as the sum of two abundant numbers."
   ]
  },
  {
   "cell_type": "code",
   "execution_count": 4,
   "metadata": {},
   "outputs": [],
   "source": [
    "from math import sqrt\n",
    "\n",
    "def divisor(nb):\n",
    "    list_of_divisor = [1]\n",
    "    \n",
    "    c = sqrt(nb)\n",
    "    if c.is_integer() and c!=1:\n",
    "        c = int(c)\n",
    "        list_of_divisor.append(c)\n",
    "    else:\n",
    "        c = int(sqrt(nb))+1\n",
    "        \n",
    "    for q in range(2,c):\n",
    "        if nb%q == 0: #nb = b*q\n",
    "            list_of_divisor.append(q)\n",
    "            list_of_divisor.append(nb//q)\n",
    "    return list_of_divisor\n",
    "\n",
    "\n",
    "def d(nb):\n",
    "    return sum(divisor(nb))\n",
    "\n",
    "def is_abundant(nb):\n",
    "    if d(nb)>nb:\n",
    "        return True\n",
    "    else:\n",
    "        return False"
   ]
  },
  {
   "cell_type": "markdown",
   "metadata": {},
   "source": [
    "# Méthode 1"
   ]
  },
  {
   "cell_type": "code",
   "execution_count": 5,
   "metadata": {},
   "outputs": [],
   "source": [
    "list_of_abundant = [k for k in range(1,28123) if is_abundant(k)]"
   ]
  },
  {
   "cell_type": "code",
   "execution_count": 6,
   "metadata": {},
   "outputs": [
    {
     "name": "stdout",
     "output_type": "stream",
     "text": [
      "6965\n"
     ]
    }
   ],
   "source": [
    "print(len(list_of_abundant))"
   ]
  },
  {
   "cell_type": "markdown",
   "metadata": {},
   "source": [
    "Il y a 6965 nbr abondant inférieurs a 28123.\n",
    "\n",
    "Ainsi on peut donc déterminer l'ensemble des nbr qui peuvent etre ecris comme la somme de deux nbr abondant. Ils sont de la forme _ + _. Avec n choix pour le premier et n pour le 2e ainsi que l'ordre qui ne compte pas par communtativité de la loi + donc il faut retrancher 2. Ainsi il y a $\\frac{n^{2}}{2}$"
   ]
  },
  {
   "cell_type": "code",
   "execution_count": 7,
   "metadata": {},
   "outputs": [
    {
     "ename": "KeyboardInterrupt",
     "evalue": "",
     "output_type": "error",
     "traceback": [
      "\u001b[0;31m---------------------------------------------------------------------------\u001b[0m",
      "\u001b[0;31mKeyboardInterrupt\u001b[0m                         Traceback (most recent call last)",
      "\u001b[0;32m<ipython-input-7-671f6f5ec925>\u001b[0m in \u001b[0;36m<module>\u001b[0;34m\u001b[0m\n\u001b[1;32m     13\u001b[0m             \u001b[0ma\u001b[0m\u001b[0;34m+=\u001b[0m\u001b[0;36m1\u001b[0m\u001b[0;34m\u001b[0m\u001b[0;34m\u001b[0m\u001b[0m\n\u001b[1;32m     14\u001b[0m             \u001b[0mb\u001b[0m\u001b[0;34m=\u001b[0m\u001b[0ma\u001b[0m\u001b[0;34m\u001b[0m\u001b[0;34m\u001b[0m\u001b[0m\n\u001b[0;32m---> 15\u001b[0;31m         \u001b[0;32melif\u001b[0m \u001b[0mc\u001b[0m \u001b[0;32mnot\u001b[0m \u001b[0;32min\u001b[0m \u001b[0mlist_of_sum\u001b[0m \u001b[0;34m:\u001b[0m\u001b[0;34m\u001b[0m\u001b[0;34m\u001b[0m\u001b[0m\n\u001b[0m\u001b[1;32m     16\u001b[0m             \u001b[0mlist_of_sum\u001b[0m\u001b[0;34m.\u001b[0m\u001b[0mappend\u001b[0m\u001b[0;34m(\u001b[0m\u001b[0mc\u001b[0m\u001b[0;34m)\u001b[0m\u001b[0;34m\u001b[0m\u001b[0;34m\u001b[0m\u001b[0m\n\u001b[1;32m     17\u001b[0m     \u001b[0ma\u001b[0m\u001b[0;34m+=\u001b[0m\u001b[0;36m1\u001b[0m\u001b[0;34m\u001b[0m\u001b[0;34m\u001b[0m\u001b[0m\n",
      "\u001b[0;31mKeyboardInterrupt\u001b[0m: "
     ]
    }
   ],
   "source": [
    "list_of_sum = []\n",
    "\n",
    "l = len(list_of_abundant)\n",
    "\n",
    "a = 0\n",
    "while a<=l:\n",
    "    \n",
    "    b=a\n",
    "    while  b<=l:\n",
    "        c = list_of_abundant[a] + list_of_abundant[b]\n",
    "        b+=1\n",
    "        if c>28123:\n",
    "            a+=1\n",
    "            b=a\n",
    "        elif c not in list_of_sum :\n",
    "            list_of_sum.append(c)\n",
    "    a+=1"
   ]
  },
  {
   "cell_type": "code",
   "execution_count": 10,
   "metadata": {},
   "outputs": [
    {
     "data": {
      "text/plain": [
       "6965"
      ]
     },
     "execution_count": 10,
     "metadata": {},
     "output_type": "execute_result"
    }
   ],
   "source": [
    "len(list_of_abundant)"
   ]
  },
  {
   "cell_type": "markdown",
   "metadata": {},
   "source": [
    "$$\\sum_{k=a+b, (a,b)∈Ab}k = \\sum_{k∈ℕ}k - \\sum_{k=a+b, (a,b)∉Ab}k = \\sum_{k=0}^{28123}k - \\sum_{k=a+b, (a,b)∉Ab}^{28123}k $$\n",
    "\n",
    "$$\\sum_{k=a+b, (a,b)∈Ab}k = \\frac{n \\cdot (n+1)}{2} - \\sum_{k=a+b, (a,b)∉Ab}^{28123}$$"
   ]
  },
  {
   "cell_type": "code",
   "execution_count": null,
   "metadata": {},
   "outputs": [],
   "source": []
  },
  {
   "cell_type": "code",
   "execution_count": 87,
   "metadata": {},
   "outputs": [],
   "source": [
    "solution = ((28123)*(28124))//2 - sum(list_of_sum)"
   ]
  },
  {
   "cell_type": "code",
   "execution_count": 88,
   "metadata": {},
   "outputs": [
    {
     "data": {
      "text/plain": [
       "-227202587074"
      ]
     },
     "execution_count": 88,
     "metadata": {},
     "output_type": "execute_result"
    }
   ],
   "source": [
    "solution"
   ]
  },
  {
   "cell_type": "code",
   "execution_count": 101,
   "metadata": {},
   "outputs": [
    {
     "name": "stdin",
     "output_type": "stream",
     "text": [
      "yes or no?  \n"
     ]
    },
    {
     "name": "stdout",
     "output_type": "stream",
     "text": [
      "You're annoying me - answer the question!\n"
     ]
    },
    {
     "name": "stdin",
     "output_type": "stream",
     "text": [
      "yes or no?  \n"
     ]
    },
    {
     "name": "stdout",
     "output_type": "stream",
     "text": [
      "You're annoying me - answer the question!\n"
     ]
    },
    {
     "name": "stdin",
     "output_type": "stream",
     "text": [
      "yes or no?  no\n"
     ]
    },
    {
     "name": "stdout",
     "output_type": "stream",
     "text": [
      "Thank you for the no!\n"
     ]
    }
   ],
   "source": [
    "def goto(linenum):\n",
    "    global line\n",
    "    line = linenum\n",
    "\n",
    "line = 1\n",
    "while True:\n",
    "    if line == 1:\n",
    "        response = input(\"yes or no? \")\n",
    "        if response == \"yes\":\n",
    "            goto(2)\n",
    "        elif response == \"no\":\n",
    "            goto(3)\n",
    "        else:\n",
    "            goto(100)\n",
    "    elif line == 2:\n",
    "        print(\"Thank you for the yes!\")\n",
    "        goto(20)\n",
    "    elif line == 3:\n",
    "        print(\"Thank you for the no!\")\n",
    "        goto(20)\n",
    "    elif line == 20:\n",
    "        break\n",
    "    elif line == 100:\n",
    "        print(\"You're annoying me - answer the question!\")\n",
    "        goto(1)"
   ]
  },
  {
   "cell_type": "code",
   "execution_count": 3,
   "metadata": {},
   "outputs": [
    {
     "data": {
      "text/plain": [
       "True"
      ]
     },
     "execution_count": 3,
     "metadata": {},
     "output_type": "execute_result"
    }
   ],
   "source": [
    "is_abundant(12)"
   ]
  },
  {
   "cell_type": "code",
   "execution_count": null,
   "metadata": {},
   "outputs": [],
   "source": []
  }
 ],
 "metadata": {
  "kernelspec": {
   "display_name": "Python 3",
   "language": "python",
   "name": "python3"
  },
  "language_info": {
   "codemirror_mode": {
    "name": "ipython",
    "version": 3
   },
   "file_extension": ".py",
   "mimetype": "text/x-python",
   "name": "python",
   "nbconvert_exporter": "python",
   "pygments_lexer": "ipython3",
   "version": "3.7.4"
  }
 },
 "nbformat": 4,
 "nbformat_minor": 4
}
