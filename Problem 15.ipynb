{
 "cells": [
  {
   "cell_type": "markdown",
   "metadata": {},
   "source": [
    "# Lattice paths\n",
    "## Problem 15"
   ]
  },
  {
   "cell_type": "markdown",
   "metadata": {},
   "source": [
    "Starting in the top left corner of a 2×2 grid, and only being able to move to the right and down, there are exactly 6 routes to the bottom right corner.\n",
    "\n",
    "![title](https://projecteuler.net/project/images/p015.png)\n",
    "\n",
    "How many such routes are there through a 20×20 grid?"
   ]
  },
  {
   "cell_type": "markdown",
   "metadata": {},
   "source": [
    "### Idée\n",
    "Soit n*n\n",
    "\n",
    "Soit \n",
    "    A --> (left)\n",
    "    B ^ (down)\n",
    "\n",
    "Il faut tj le même nbr de déplacement pour se rendre sur le botoom right corner car de tt facon on ne peut pas revenir en arriere.\n",
    "\n",
    "Il faut 2*n déplacement.\n",
    "\n",
    "Ce qui peut se coder comme:\n",
    "    AABB   ABAB   ABBA\n",
    "    BAAB   BABA   BBAA\n",
    "    \n",
    "Il faut qu'il y est autant de A que de B.\n",
    "\n",
    "Donc 2*n deplacement avec n fois A et n fois B. _ _ _ _ _ _ (2*3 pour un n=3)\n",
    "\n",
    "Il suffit donc de placer les n fois B parmis les 2n deplacement, les autres serons les 2n-n=n fois A. \n",
    "\n",
    "_ B B _ B _ _ --> A B B A B A A\n",
    "\n",
    "Il faut donc choisir n position parmis 2n avec ordre qui ne compte (pour les positions).\n",
    "\n",
    "Donc c'est donc le nbr d'arrangement de n elt parmis 2n. Soit nA2n."
   ]
  },
  {
   "cell_type": "code",
   "execution_count": 10,
   "metadata": {},
   "outputs": [],
   "source": [
    "def factorial(k):\n",
    "    if k == 1 or k == 0:\n",
    "        return 1\n",
    "    else:\n",
    "        return k*factorial(k-1)"
   ]
  },
  {
   "cell_type": "code",
   "execution_count": 15,
   "metadata": {},
   "outputs": [],
   "source": [
    "def arrangement(n,k):\n",
    "    return (factorial(n))//(factorial(k)*factorial(n-k))"
   ]
  },
  {
   "cell_type": "code",
   "execution_count": 16,
   "metadata": {},
   "outputs": [
    {
     "data": {
      "text/plain": [
       "137846528820"
      ]
     },
     "execution_count": 16,
     "metadata": {},
     "output_type": "execute_result"
    }
   ],
   "source": [
    "arrangement(2*20,20)"
   ]
  },
  {
   "cell_type": "markdown",
   "metadata": {},
   "source": [
    "Remarque: Formule de Vandermonde (ou plutot identité): ???\n",
    "$$\\sum_{k=0}^{n} \\binom{n}{k}^2 = \\binom{2n}{n}$$"
   ]
  },
  {
   "cell_type": "markdown",
   "metadata": {},
   "source": []
  },
  {
   "cell_type": "code",
   "execution_count": null,
   "metadata": {},
   "outputs": [],
   "source": []
  }
 ],
 "metadata": {
  "kernelspec": {
   "display_name": "Python 3",
   "language": "python",
   "name": "python3"
  },
  "language_info": {
   "codemirror_mode": {
    "name": "ipython",
    "version": 3
   },
   "file_extension": ".py",
   "mimetype": "text/x-python",
   "name": "python",
   "nbconvert_exporter": "python",
   "pygments_lexer": "ipython3",
   "version": "3.7.4"
  }
 },
 "nbformat": 4,
 "nbformat_minor": 4
}
