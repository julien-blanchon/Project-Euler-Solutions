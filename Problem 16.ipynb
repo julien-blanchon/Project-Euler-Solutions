{
 "cells": [
  {
   "cell_type": "markdown",
   "metadata": {},
   "source": [
    "# Power digit sum\n",
    "## Problem 16"
   ]
  },
  {
   "cell_type": "markdown",
   "metadata": {},
   "source": [
    "$2^{15}$ = 32768 and the sum of its digits is 3 + 2 + 7 + 6 + 8 = 26.\n",
    "\n",
    "What is the sum of the digits of the number $2^{1000}$?"
   ]
  },
  {
   "cell_type": "markdown",
   "metadata": {},
   "source": [
    "# Idée\n",
    "\n",
    "$$2^{0} = 1 \\equiv 1 [10]$$\n",
    "$$2^{1} = 2 \\equiv 2 [10]$$\n",
    "$$2^{2} = 4 \\equiv 4 [10]$$\n",
    "$$2^{3} = 8 \\equiv 8 [10]$$\n",
    "$$2^{4} = 16 \\equiv 6 [10]$$\n",
    "$$2^{5} = 32 \\equiv 2 [10]$$\n",
    "$$2^{6} \\equiv 4 [10]$$\n",
    "$$2^{7} \\equiv 8 [10]$$\n",
    "$$2^{8} \\equiv 6 [10]$$\n",
    "$$2^{9} \\equiv 2 [10]$$\n",
    "$$\\cdots$$\n",
    "$$\\cdots$$\n",
    "$$\\cdots$$"
   ]
  },
  {
   "cell_type": "markdown",
   "metadata": {},
   "source": [
    "On a donc:\n",
    "$$2^{n} = 2^{2q + r} \\equiv 4^{q}+2^{r} [10]$$"
   ]
  },
  {
   "cell_type": "code",
   "execution_count": 18,
   "metadata": {},
   "outputs": [],
   "source": [
    "number = 2**1000"
   ]
  },
  {
   "cell_type": "code",
   "execution_count": 19,
   "metadata": {},
   "outputs": [],
   "source": [
    "number = [int(n) for n in str(number)]"
   ]
  },
  {
   "cell_type": "code",
   "execution_count": 20,
   "metadata": {},
   "outputs": [
    {
     "data": {
      "text/plain": [
       "1366"
      ]
     },
     "execution_count": 20,
     "metadata": {},
     "output_type": "execute_result"
    }
   ],
   "source": [
    "sum(number)"
   ]
  },
  {
   "cell_type": "code",
   "execution_count": null,
   "metadata": {},
   "outputs": [],
   "source": []
  },
  {
   "cell_type": "code",
   "execution_count": null,
   "metadata": {},
   "outputs": [],
   "source": []
  }
 ],
 "metadata": {
  "kernelspec": {
   "display_name": "Python 3",
   "language": "python",
   "name": "python3"
  },
  "language_info": {
   "codemirror_mode": {
    "name": "ipython",
    "version": 3
   },
   "file_extension": ".py",
   "mimetype": "text/x-python",
   "name": "python",
   "nbconvert_exporter": "python",
   "pygments_lexer": "ipython3",
   "version": "3.7.4"
  }
 },
 "nbformat": 4,
 "nbformat_minor": 4
}
