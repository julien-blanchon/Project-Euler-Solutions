{
 "cells": [
  {
   "cell_type": "markdown",
   "metadata": {},
   "source": [
    "# Summation of primes\n",
    "\n",
    "## Problem 10"
   ]
  },
  {
   "cell_type": "markdown",
   "metadata": {},
   "source": [
    "The sum of the primes below 10 is 2 + 3 + 5 + 7 = 17.\n",
    "\n",
    "Find the sum of all the primes below two million."
   ]
  },
  {
   "cell_type": "code",
   "execution_count": 14,
   "metadata": {},
   "outputs": [
    {
     "ename": "KeyboardInterrupt",
     "evalue": "",
     "output_type": "error",
     "traceback": [
      "\u001b[0;31m---------------------------------------------------------------------------\u001b[0m",
      "\u001b[0;31mKeyboardInterrupt\u001b[0m                         Traceback (most recent call last)",
      "\u001b[0;32m<timed exec>\u001b[0m in \u001b[0;36m<module>\u001b[0;34m\u001b[0m\n",
      "\u001b[0;32m<timed exec>\u001b[0m in \u001b[0;36mprime_gen\u001b[0;34m(max)\u001b[0m\n",
      "\u001b[0;31mKeyboardInterrupt\u001b[0m: "
     ]
    }
   ],
   "source": [
    "%%time \n",
    "def prime_gen(max):\n",
    "    a = 2\n",
    "    previous_prime = []\n",
    "    \n",
    "    while a<max:\n",
    "        a_can_be_prime = True\n",
    "        while a_can_be_prime:\n",
    "            \n",
    "            for p in previous_prime:\n",
    "                if a%p==0:\n",
    "                    a_can_be_prime = False\n",
    "                    break\n",
    "                    \n",
    "            if a_can_be_prime:\n",
    "                previous_prime.append(a)\n",
    "                a+=1\n",
    "                yield previous_prime[-1]\n",
    "            else:\n",
    "                a+=1\n",
    "\n",
    "solution = sum(list(prime_gen(1000000)))"
   ]
  },
  {
   "cell_type": "code",
   "execution_count": 12,
   "metadata": {},
   "outputs": [
    {
     "data": {
      "text/plain": [
       "454396537"
      ]
     },
     "execution_count": 12,
     "metadata": {},
     "output_type": "execute_result"
    }
   ],
   "source": [
    "solution"
   ]
  },
  {
   "cell_type": "code",
   "execution_count": 25,
   "metadata": {},
   "outputs": [
    {
     "ename": "KeyboardInterrupt",
     "evalue": "",
     "output_type": "error",
     "traceback": [
      "\u001b[0;31m---------------------------------------------------------------------------\u001b[0m",
      "\u001b[0;31mKeyboardInterrupt\u001b[0m                         Traceback (most recent call last)",
      "\u001b[0;32m<timed exec>\u001b[0m in \u001b[0;36m<module>\u001b[0;34m\u001b[0m\n",
      "\u001b[0;32m<timed exec>\u001b[0m in \u001b[0;36mprime_gen\u001b[0;34m(max)\u001b[0m\n",
      "\u001b[0;31mKeyboardInterrupt\u001b[0m: "
     ]
    }
   ],
   "source": [
    "%%time \n",
    "def prime_gen(max):\n",
    "    a = 2\n",
    "    previous_prime = []\n",
    "    \n",
    "    while a<max:\n",
    "        a_can_be_prime = True\n",
    "        while a_can_be_prime:\n",
    "            \n",
    "            for p in previous_prime:\n",
    "                if a%p==0:\n",
    "                    a_can_be_prime = False\n",
    "                    break\n",
    "                    \n",
    "            if a_can_be_prime:\n",
    "                previous_prime.append(a)\n",
    "                a+=1\n",
    "                yield previous_prime[-1]\n",
    "            else:\n",
    "                a+=1\n",
    "\n",
    "my_test_list = list(prime_gen(500000)) ##Why slow ???"
   ]
  },
  {
   "cell_type": "code",
   "execution_count": 31,
   "metadata": {},
   "outputs": [
    {
     "name": "stdout",
     "output_type": "stream",
     "text": [
      "CPU times: user 450 µs, sys: 109 µs, total: 559 µs\n",
      "Wall time: 566 µs\n"
     ]
    }
   ],
   "source": [
    "%%time \n",
    "def is_prime(n):\n",
    "    if n==1 or n==2 or n%2==0:\n",
    "        return False\n",
    "    for i in range(3,int(n**0.5)+1,2):\n",
    "        if n%i==0:\n",
    "            return False\n",
    "    return True\n",
    "\n",
    "my_test_list = [p for p in range(1,500000) if is_prime(p)]"
   ]
  },
  {
   "cell_type": "code",
   "execution_count": 37,
   "metadata": {},
   "outputs": [],
   "source": [
    "def is_prime(n):\n",
    "    if n==2:\n",
    "        return True\n",
    "    if n==1 or n%2==0:\n",
    "        return False\n",
    "    for i in range(3,int(n**0.5)+1,2):\n",
    "        if n%i==0:\n",
    "            return False\n",
    "    return True\n",
    "\n",
    "solution = sum([p for p in range(1,2000000) if is_prime(p)])"
   ]
  },
  {
   "cell_type": "code",
   "execution_count": 38,
   "metadata": {},
   "outputs": [
    {
     "data": {
      "text/plain": [
       "142913828922"
      ]
     },
     "execution_count": 38,
     "metadata": {},
     "output_type": "execute_result"
    }
   ],
   "source": [
    "solution"
   ]
  },
  {
   "cell_type": "code",
   "execution_count": null,
   "metadata": {},
   "outputs": [],
   "source": []
  }
 ],
 "metadata": {
  "kernelspec": {
   "display_name": "Python 3",
   "language": "python",
   "name": "python3"
  },
  "language_info": {
   "codemirror_mode": {
    "name": "ipython",
    "version": 3
   },
   "file_extension": ".py",
   "mimetype": "text/x-python",
   "name": "python",
   "nbconvert_exporter": "python",
   "pygments_lexer": "ipython3",
   "version": "3.7.4"
  }
 },
 "nbformat": 4,
 "nbformat_minor": 2
}
