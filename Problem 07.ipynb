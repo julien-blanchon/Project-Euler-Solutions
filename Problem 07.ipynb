{
 "cells": [
  {
   "cell_type": "markdown",
   "metadata": {},
   "source": [
    "# 10001st prime\n",
    "\n",
    "## Problem 7"
   ]
  },
  {
   "cell_type": "markdown",
   "metadata": {},
   "source": [
    "By listing the first six prime numbers: 2, 3, 5, 7, 11, and 13, we can see that the 6th prime is 13.\n",
    "\n",
    "What is the 10 001st prime number?"
   ]
  },
  {
   "cell_type": "code",
   "execution_count": 5,
   "metadata": {},
   "outputs": [],
   "source": [
    "def prime_gen(max_ind):\n",
    "    a = 2\n",
    "    previous_prime = []\n",
    "    \n",
    "    while len(previous_prime)<max_ind:\n",
    "        a_can_be_prime = True\n",
    "        while a_can_be_prime:\n",
    "            \n",
    "            for p in previous_prime:\n",
    "                if a%p==0:\n",
    "                    a_can_be_prime = False\n",
    "                    break\n",
    "                    \n",
    "            if a_can_be_prime:\n",
    "                previous_prime.append(a)\n",
    "                a+=1\n",
    "                yield previous_prime[-1]\n",
    "            else:\n",
    "                a+=1\n",
    "\n",
    "solution = [k for k in prime_gen(10001)]"
   ]
  },
  {
   "cell_type": "code",
   "execution_count": 8,
   "metadata": {},
   "outputs": [
    {
     "data": {
      "text/plain": [
       "104743"
      ]
     },
     "execution_count": 8,
     "metadata": {},
     "output_type": "execute_result"
    }
   ],
   "source": [
    "solution[10000]"
   ]
  },
  {
   "cell_type": "code",
   "execution_count": null,
   "metadata": {},
   "outputs": [],
   "source": []
  }
 ],
 "metadata": {
  "kernelspec": {
   "display_name": "Python 3",
   "language": "python",
   "name": "python3"
  },
  "language_info": {
   "codemirror_mode": {
    "name": "ipython",
    "version": 3
   },
   "file_extension": ".py",
   "mimetype": "text/x-python",
   "name": "python",
   "nbconvert_exporter": "python",
   "pygments_lexer": "ipython3",
   "version": "3.7.4"
  }
 },
 "nbformat": 4,
 "nbformat_minor": 2
}
