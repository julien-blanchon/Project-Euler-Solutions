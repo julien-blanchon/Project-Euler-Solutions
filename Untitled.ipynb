{
 "cells": [
  {
   "cell_type": "markdown",
   "metadata": {},
   "source": [
    "# Licence plates\n",
    "   \n",
    "## Problem 371"
   ]
  },
  {
   "cell_type": "markdown",
   "metadata": {},
   "source": [
    "<div class=\"problem_content\" role=\"problem\">\n",
    "<p>\n",
    "Oregon licence plates consist of three letters followed by a three digit number (each digit can be from [0..9]).<br>\n",
    "While driving to work Seth plays the following game:<br>\n",
    "Whenever the numbers of two licence plates seen on his trip add to 1000 that's a win.\n",
    "</p>\n",
    "<p>\n",
    "E.g. MIC-012 and HAN-988 is a win and RYU-500 and SET-500 too. (as long as he sees them in the same trip). \n",
    "</p><p>\n",
    "</p><p>\n",
    "Find the expected number of plates he needs to see for a win.<br>\n",
    "Give your answer rounded to 8 decimal places behind the decimal point.\n",
    "</p>\n",
    "<p style=\"font-size:88%;\">\n",
    "<b>Note:</b> We assume that each licence plate seen is equally likely to have any three digit number on it.\n",
    "</p>\n",
    "\n",
    "\n",
    "\n",
    "\n",
    "</div>"
   ]
  },
  {
   "cell_type": "code",
   "execution_count": 1,
   "metadata": {},
   "outputs": [],
   "source": [
    "import random"
   ]
  },
  {
   "cell_type": "code",
   "execution_count": 8,
   "metadata": {},
   "outputs": [
    {
     "data": {
      "text/plain": [
       "711"
      ]
     },
     "execution_count": 8,
     "metadata": {},
     "output_type": "execute_result"
    }
   ],
   "source": [
    "random.randint(0,999)"
   ]
  },
  {
   "cell_type": "code",
   "execution_count": 46,
   "metadata": {},
   "outputs": [
    {
     "name": "stdout",
     "output_type": "stream",
     "text": [
      "115906283\n"
     ]
    }
   ],
   "source": [
    "nb_max=3000000\n",
    "\n",
    "prob = 0\n",
    "for k in range(0,nb_max):\n",
    "    i = 0\n",
    "    plate_list = []\n",
    "    is_win = False\n",
    "    while not is_win:\n",
    "        a = random.randint(0,999)\n",
    "        plate_list.append(a)\n",
    "        if 1000 - a in plate_list:\n",
    "            is_win = True\n",
    "            break\n",
    "        i+=1\n",
    "    prob += i\n",
    "print(prob)"
   ]
  },
  {
   "cell_type": "code",
   "execution_count": 47,
   "metadata": {},
   "outputs": [
    {
     "data": {
      "text/plain": [
       "38.635427666666665"
      ]
     },
     "execution_count": 47,
     "metadata": {},
     "output_type": "execute_result"
    }
   ],
   "source": [
    "prob/nb_max"
   ]
  },
  {
   "cell_type": "code",
   "execution_count": null,
   "metadata": {},
   "outputs": [],
   "source": []
  },
  {
   "cell_type": "code",
   "execution_count": null,
   "metadata": {},
   "outputs": [],
   "source": []
  },
  {
   "cell_type": "code",
   "execution_count": null,
   "metadata": {},
   "outputs": [],
   "source": []
  },
  {
   "cell_type": "code",
   "execution_count": null,
   "metadata": {},
   "outputs": [],
   "source": []
  }
 ],
 "metadata": {
  "kernelspec": {
   "display_name": "Python 3",
   "language": "python",
   "name": "python3"
  },
  "language_info": {
   "codemirror_mode": {
    "name": "ipython",
    "version": 3
   },
   "file_extension": ".py",
   "mimetype": "text/x-python",
   "name": "python",
   "nbconvert_exporter": "python",
   "pygments_lexer": "ipython3",
   "version": "3.7.4"
  }
 },
 "nbformat": 4,
 "nbformat_minor": 4
}
