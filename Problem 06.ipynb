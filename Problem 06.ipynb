{
 "cells": [
  {
   "cell_type": "markdown",
   "metadata": {},
   "source": [
    "# Sum square difference\n",
    "\n",
    "## Problem 6"
   ]
  },
  {
   "cell_type": "markdown",
   "metadata": {},
   "source": [
    "The sum of the squares of the first ten natural numbers is,\n",
    "\n",
    "1^2 + 2^2 + ... + 10^2 = 385\n",
    "The square of the sum of the first ten natural numbers is,\n",
    "\n",
    "(1 + 2 + ... + 10)^2 = 552 = 3025\n",
    "Hence the difference between the sum of the squares of the first ten natural numbers and the square of the sum is 3025 − 385 = 2640.\n",
    "\n",
    "Find the difference between the sum of the squares of the first one hundred natural numbers and the square of the sum."
   ]
  },
  {
   "cell_type": "code",
   "execution_count": 7,
   "metadata": {},
   "outputs": [
    {
     "data": {
      "text/plain": [
       "25164150"
      ]
     },
     "execution_count": 7,
     "metadata": {},
     "output_type": "execute_result"
    }
   ],
   "source": [
    "sum([k for k in range(1,stop=100)])^2 - sum([k^2 for k in range(1,stop=100)])"
   ]
  },
  {
   "cell_type": "code",
   "execution_count": 4,
   "metadata": {},
   "outputs": [
    {
     "data": {
      "text/plain": [
       "1000-element Array{Int64,1}:\n",
       "    1\n",
       "    2\n",
       "    3\n",
       "    4\n",
       "    5\n",
       "    6\n",
       "    7\n",
       "    8\n",
       "    9\n",
       "   10\n",
       "   11\n",
       "   12\n",
       "   13\n",
       "    ⋮\n",
       "  989\n",
       "  990\n",
       "  991\n",
       "  992\n",
       "  993\n",
       "  994\n",
       "  995\n",
       "  996\n",
       "  997\n",
       "  998\n",
       "  999\n",
       " 1000"
      ]
     },
     "execution_count": 4,
     "metadata": {},
     "output_type": "execute_result"
    }
   ],
   "source": [
    "[k for k in range(1,stop = 1000)]"
   ]
  },
  {
   "cell_type": "code",
   "execution_count": null,
   "metadata": {},
   "outputs": [],
   "source": []
  }
 ],
 "metadata": {
  "kernelspec": {
   "display_name": "Julia 1.1.1",
   "language": "julia",
   "name": "julia-1.1"
  },
  "language_info": {
   "file_extension": ".jl",
   "mimetype": "application/julia",
   "name": "julia",
   "version": "1.1.1"
  }
 },
 "nbformat": 4,
 "nbformat_minor": 2
}
