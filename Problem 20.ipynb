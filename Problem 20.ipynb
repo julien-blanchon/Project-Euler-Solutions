{
 "cells": [
  {
   "cell_type": "markdown",
   "metadata": {},
   "source": [
    "# Factorial digit sum\n",
    "## Problem 20"
   ]
  },
  {
   "cell_type": "markdown",
   "metadata": {},
   "source": [
    "n! means n × (n − 1) × ... × 3 × 2 × 1\n",
    "\n",
    "For example, 10! = 10 × 9 × ... × 3 × 2 × 1 = 3628800,\n",
    "\n",
    "and the sum of the digits in the number 10! is 3 + 6 + 2 + 8 + 8 + 0 + 0 = 27.\n",
    "\n",
    "Find the sum of the digits in the number 100!"
   ]
  },
  {
   "cell_type": "code",
   "execution_count": 1,
   "metadata": {},
   "outputs": [],
   "source": [
    "def factorial(nb):\n",
    "    if nb == 0:\n",
    "        return 1\n",
    "    elif nb == 1:\n",
    "        return 1\n",
    "    else:\n",
    "        return nb * factorial(nb-1)"
   ]
  },
  {
   "cell_type": "code",
   "execution_count": 2,
   "metadata": {},
   "outputs": [],
   "source": [
    "solution = sum([int(k) for k in str(factorial(100))])"
   ]
  },
  {
   "cell_type": "code",
   "execution_count": 3,
   "metadata": {},
   "outputs": [
    {
     "data": {
      "text/plain": [
       "648"
      ]
     },
     "execution_count": 3,
     "metadata": {},
     "output_type": "execute_result"
    }
   ],
   "source": [
    "solution"
   ]
  },
  {
   "cell_type": "code",
   "execution_count": null,
   "metadata": {},
   "outputs": [],
   "source": []
  }
 ],
 "metadata": {
  "kernelspec": {
   "display_name": "Python 3",
   "language": "python",
   "name": "python3"
  },
  "language_info": {
   "codemirror_mode": {
    "name": "ipython",
    "version": 3
   },
   "file_extension": ".py",
   "mimetype": "text/x-python",
   "name": "python",
   "nbconvert_exporter": "python",
   "pygments_lexer": "ipython3",
   "version": "3.7.4"
  }
 },
 "nbformat": 4,
 "nbformat_minor": 4
}
