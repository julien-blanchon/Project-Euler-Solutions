{
 "cells": [
  {
   "cell_type": "markdown",
   "metadata": {},
   "source": [
    "# Double-base palindromes\n",
    "## Problem 36"
   ]
  },
  {
   "cell_type": "markdown",
   "metadata": {},
   "source": [
    "<div class=\"problem_content\" role=\"problem\">\n",
    "\n",
    "<p>The decimal number, 585 = 1001001001<sub>2</sub> (binary), is palindromic in both bases.</p>\n",
    "<p>Find the sum of all numbers, less than one million, which are palindromic in base 10 and base 2.</p>\n",
    "<p class=\"info\">(Please note that the palindromic number, in either base, may not include leading zeros.)</p>\n",
    "\n",
    "</div>"
   ]
  },
  {
   "cell_type": "code",
   "execution_count": 42,
   "metadata": {},
   "outputs": [],
   "source": [
    "def compute():\n",
    "    solution = 0\n",
    "    for number in range(1,1000000):\n",
    "        number_10 = [k for k in str(number)]\n",
    "        number_2 = [k for k in str(bin(number))[2:]]\n",
    "        if number_10 == number_10[::-1] and number_2 == number_2[::-1] :\n",
    "            print(number_10,number_2)\n",
    "            solution += number\n",
    "    return solution"
   ]
  },
  {
   "cell_type": "code",
   "execution_count": 43,
   "metadata": {},
   "outputs": [
    {
     "name": "stdout",
     "output_type": "stream",
     "text": [
      "['1'] ['1']\n",
      "['3'] ['1', '1']\n",
      "['5'] ['1', '0', '1']\n",
      "['7'] ['1', '1', '1']\n",
      "['9'] ['1', '0', '0', '1']\n",
      "['3', '3'] ['1', '0', '0', '0', '0', '1']\n",
      "['9', '9'] ['1', '1', '0', '0', '0', '1', '1']\n",
      "['3', '1', '3'] ['1', '0', '0', '1', '1', '1', '0', '0', '1']\n",
      "['5', '8', '5'] ['1', '0', '0', '1', '0', '0', '1', '0', '0', '1']\n",
      "['7', '1', '7'] ['1', '0', '1', '1', '0', '0', '1', '1', '0', '1']\n",
      "['7', '4', '4', '7'] ['1', '1', '1', '0', '1', '0', '0', '0', '1', '0', '1', '1', '1']\n",
      "['9', '0', '0', '9'] ['1', '0', '0', '0', '1', '1', '0', '0', '1', '1', '0', '0', '0', '1']\n",
      "['1', '5', '3', '5', '1'] ['1', '1', '1', '0', '1', '1', '1', '1', '1', '1', '0', '1', '1', '1']\n",
      "['3', '2', '2', '2', '3'] ['1', '1', '1', '1', '1', '0', '1', '1', '1', '0', '1', '1', '1', '1', '1']\n",
      "['3', '9', '9', '9', '3'] ['1', '0', '0', '1', '1', '1', '0', '0', '0', '0', '1', '1', '1', '0', '0', '1']\n",
      "['5', '3', '2', '3', '5'] ['1', '1', '0', '0', '1', '1', '1', '1', '1', '1', '1', '1', '0', '0', '1', '1']\n",
      "['5', '3', '8', '3', '5'] ['1', '1', '0', '1', '0', '0', '1', '0', '0', '1', '0', '0', '1', '0', '1', '1']\n",
      "['7', '3', '7', '3', '7'] ['1', '0', '0', '1', '0', '0', '0', '0', '0', '0', '0', '0', '0', '1', '0', '0', '1']\n",
      "['5', '8', '5', '5', '8', '5'] ['1', '0', '0', '0', '1', '1', '1', '0', '1', '1', '1', '1', '0', '1', '1', '1', '0', '0', '0', '1']\n"
     ]
    },
    {
     "data": {
      "text/plain": [
       "872187"
      ]
     },
     "execution_count": 43,
     "metadata": {},
     "output_type": "execute_result"
    }
   ],
   "source": [
    "compute()"
   ]
  },
  {
   "cell_type": "code",
   "execution_count": null,
   "metadata": {},
   "outputs": [],
   "source": []
  }
 ],
 "metadata": {
  "kernelspec": {
   "display_name": "Python 3",
   "language": "python",
   "name": "python3"
  },
  "language_info": {
   "codemirror_mode": {
    "name": "ipython",
    "version": 3
   },
   "file_extension": ".py",
   "mimetype": "text/x-python",
   "name": "python",
   "nbconvert_exporter": "python",
   "pygments_lexer": "ipython3",
   "version": "3.7.4"
  }
 },
 "nbformat": 4,
 "nbformat_minor": 4
}
