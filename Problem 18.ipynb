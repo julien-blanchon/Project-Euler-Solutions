{
 "cells": [
  {
   "cell_type": "markdown",
   "metadata": {},
   "source": [
    "# Maximum path sum I\n",
    "## Problem 18"
   ]
  },
  {
   "cell_type": "markdown",
   "metadata": {},
   "source": [
    "<div class=\"problem_content\" role=\"problem\">\n",
    "<p>By starting at the top of the triangle below and moving to adjacent numbers on the row below, the maximum total from top to bottom is 23.</p>\n",
    "<p style=\"text-align:center;font-family:'courier new';font-size:12pt;\"><span style=\"color:#ff0000;\"><b>3</b></span><br><span style=\"color:#ff0000;\"><b>7</b></span> 4<br>\n",
    "2 <span style=\"color:#ff0000;\"><b>4</b></span> 6<br>\n",
    "8 5 <span style=\"color:#ff0000;\"><b>9</b></span> 3</p>\n",
    "<p>That is, 3 + 7 + 4 + 9 = 23.</p>\n",
    "<p>Find the maximum total from top to bottom of the triangle below:</p>\n",
    "<p style=\"text-align:center;font-family:'courier new';\">75<br>\n",
    "95 64<br>\n",
    "17 47 82<br>\n",
    "18 35 87 10<br>\n",
    "20 04 82 47 65<br>\n",
    "19 01 23 75 03 34<br>\n",
    "88 02 77 73 07 63 67<br>\n",
    "99 65 04 28 06 16 70 92<br>\n",
    "41 41 26 56 83 40 80 70 33<br>\n",
    "41 48 72 33 47 32 37 16 94 29<br>\n",
    "53 71 44 65 25 43 91 52 97 51 14<br>\n",
    "70 11 33 28 77 73 17 78 39 68 17 57<br>\n",
    "91 71 52 38 17 14 91 43 58 50 27 29 48<br>\n",
    "63 66 04 68 89 53 67 30 73 16 69 87 40 31<br>\n",
    "04 62 98 27 23 09 70 98 73 93 38 53 60 04 23</p>\n",
    "<p class=\"note\"><b>NOTE:</b> As there are only 16384 routes, it is possible to solve this problem by trying every route. However, <a href=\"problem=67\">Problem 67</a>, is the same challenge with a triangle containing one-hundred rows; it cannot be solved by brute force, and requires a clever method! ;o)</p>\n",
    "</div>"
   ]
  },
  {
   "cell_type": "code",
   "execution_count": 68,
   "metadata": {},
   "outputs": [],
   "source": [
    "pyramid = [[75],[95, 64],[17, 47, 82],[18, 35, 87, 10],[20, 4, 82, 47, 65],[19, 1, 23, 75, 3, 34],[88, 2, 77, 73, 7, 63, 67],[99, 65, 4, 28, 6, 16, 70, 92],[41, 41, 26, 56, 83, 40, 80, 70, 33],[41, 48, 72, 33, 47, 32, 37, 16, 94, 29],[53, 71, 44, 65, 25, 43, 91, 52, 97, 51, 14],[70, 11, 33, 28, 77, 73, 17, 78, 39, 68, 17, 57],[91, 71, 52, 38, 17, 14, 91, 43, 58, 50, 27, 29, 48],[63, 66, 4, 68, 89, 53, 67, 30, 73, 16, 69, 87, 40, 31],[4, 62, 98, 27, 23, 9, 70, 98, 73, 93, 38, 53, 60, 4, 23]]"
   ]
  },
  {
   "cell_type": "code",
   "execution_count": 35,
   "metadata": {},
   "outputs": [
    {
     "name": "stdout",
     "output_type": "stream",
     "text": [
      "\u001b[38;5;1m 95\t\u001b[38;5;4m 64\t\n",
      "\n",
      "\u001b[38;5;4m 17\t\u001b[38;5;1m 47\t\u001b[38;5;4m 82\t\n",
      "\n",
      "\u001b[38;5;4m 18\t\u001b[38;5;4m 35\t\u001b[38;5;1m 87\t\u001b[38;5;4m 10\t\n",
      "\n",
      "\u001b[38;5;4m 20\t\u001b[38;5;4m 4\t\u001b[38;5;1m 82\t\u001b[38;5;4m 47\t\u001b[38;5;4m 65\t\n",
      "\n",
      "\u001b[38;5;4m 19\t\u001b[38;5;4m 1\t\u001b[38;5;4m 23\t\u001b[38;5;1m 75\t\u001b[38;5;4m 3\t\u001b[38;5;4m 34\t\n",
      "\n",
      "\u001b[38;5;4m 88\t\u001b[38;5;4m 2\t\u001b[38;5;4m 77\t\u001b[38;5;1m 73\t\u001b[38;5;4m 7\t\u001b[38;5;4m 63\t\u001b[38;5;4m 67\t\n",
      "\n",
      "\u001b[38;5;4m 99\t\u001b[38;5;4m 65\t\u001b[38;5;4m 4\t\u001b[38;5;1m 28\t\u001b[38;5;4m 6\t\u001b[38;5;4m 16\t\u001b[38;5;4m 70\t\u001b[38;5;4m 92\t\n",
      "\n",
      "\u001b[38;5;4m 41\t\u001b[38;5;4m 41\t\u001b[38;5;4m 26\t\u001b[38;5;4m 56\t\u001b[38;5;1m 83\t\u001b[38;5;4m 40\t\u001b[38;5;4m 80\t\u001b[38;5;4m 70\t\u001b[38;5;4m 33\t\n",
      "\n",
      "\u001b[38;5;4m 41\t\u001b[38;5;4m 48\t\u001b[38;5;4m 72\t\u001b[38;5;4m 33\t\u001b[38;5;1m 47\t\u001b[38;5;4m 32\t\u001b[38;5;4m 37\t\u001b[38;5;4m 16\t\u001b[38;5;4m 94\t\u001b[38;5;4m 29\t\n",
      "\n",
      "\u001b[38;5;4m 53\t\u001b[38;5;4m 71\t\u001b[38;5;4m 44\t\u001b[38;5;4m 65\t\u001b[38;5;4m 25\t\u001b[38;5;1m 43\t\u001b[38;5;4m 91\t\u001b[38;5;4m 52\t\u001b[38;5;4m 97\t\u001b[38;5;4m 51\t\u001b[38;5;4m 14\t\n",
      "\n",
      "\u001b[38;5;4m 70\t\u001b[38;5;4m 11\t\u001b[38;5;4m 33\t\u001b[38;5;4m 28\t\u001b[38;5;4m 77\t\u001b[38;5;1m 73\t\u001b[38;5;4m 17\t\u001b[38;5;4m 78\t\u001b[38;5;4m 39\t\u001b[38;5;4m 68\t\u001b[38;5;4m 17\t\u001b[38;5;4m 57\t\n",
      "\n",
      "\u001b[38;5;4m 91\t\u001b[38;5;4m 71\t\u001b[38;5;4m 52\t\u001b[38;5;4m 38\t\u001b[38;5;4m 17\t\u001b[38;5;4m 14\t\u001b[38;5;1m 91\t\u001b[38;5;4m 43\t\u001b[38;5;4m 58\t\u001b[38;5;4m 50\t\u001b[38;5;4m 27\t\u001b[38;5;4m 29\t\u001b[38;5;4m 48\t\n",
      "\n",
      "\u001b[38;5;4m 63\t\u001b[38;5;4m 66\t\u001b[38;5;4m 4\t\u001b[38;5;4m 68\t\u001b[38;5;4m 89\t\u001b[38;5;4m 53\t\u001b[38;5;1m 67\t\u001b[38;5;4m 30\t\u001b[38;5;4m 73\t\u001b[38;5;4m 16\t\u001b[38;5;4m 69\t\u001b[38;5;4m 87\t\u001b[38;5;4m 40\t\u001b[38;5;4m 31\t\n",
      "\n",
      "966\n",
      "Non pcq le chemin est de facon progressive pas le plus optimal\n"
     ]
    }
   ],
   "source": [
    "from colored import fg, bg, attr\n",
    "\n",
    "solution = 75\n",
    "pos=0\n",
    "\n",
    "for line in pyramid[1:-1]:\n",
    "    if line[pos]>line[pos+1]:\n",
    "        solution += line[pos]\n",
    "        pos = pos\n",
    "    else:\n",
    "        solution += line[pos+1]\n",
    "        pos = pos+1\n",
    "    \n",
    "    for ind,nb in enumerate(line):\n",
    "        if ind == pos:\n",
    "            print(f\"{fg('red')} {nb}\", end='\\t')\n",
    "        else:\n",
    "            print(f\"{fg('blue')} {nb}\", end='\\t')\n",
    "    print(\"\\n\")\n",
    "\n",
    "print(solution)\n",
    "\n",
    "print(\"Non pcq le chemin est de facon progressive pas le plus optimal\")"
   ]
  },
  {
   "cell_type": "markdown",
   "metadata": {},
   "source": [
    "# Idée"
   ]
  },
  {
   "cell_type": "markdown",
   "metadata": {},
   "source": [
    "\n",
    "<p style=\"text-align:center;font-family:'courier new';\">75<br>\n",
    "95 64<br>\n",
    "17 47 82<br>\n",
    "18 35 87 10<br>\n",
    "20 04 82 47 65<br>\n",
    "19 01 23 75 03 34<br>\n",
    "88 02 77 73 07 63 67<br>\n",
    "99 65 04 28 06 16 70 92<br>\n",
    "41 41 26 56 83 40 80 70 33<br>\n",
    "41 48 72 33 47 32 37 16 94 29<br>\n",
    "53 71 44 65 25 43 91 52 97 51 14<br>\n",
    "70 11 33 28 77 73 17 78 39 68 17 57<br>\n",
    "91 71 52 38 17 14 91 43 58 50 27 29 48<br>\n",
    "63 66 04 68 89 53 67 30 73 16 69 87 40 31<br>\n",
    "04 62 98 27 23 09 70 98 73 93 38 53 60 04 23</p>"
   ]
  },
  {
   "cell_type": "markdown",
   "metadata": {},
   "source": [
    "Pour rendre le probleme plus simple nous allons compacter les lignes de la pyramide en partant des dernieres. "
   ]
  },
  {
   "cell_type": "code",
   "execution_count": null,
   "metadata": {},
   "outputs": [],
   "source": []
  },
  {
   "cell_type": "code",
   "execution_count": 80,
   "metadata": {},
   "outputs": [
    {
     "name": "stdout",
     "output_type": "stream",
     "text": [
      "[125, 164, 102, 95, 112, 123, 165, 128, 166, 109, 122, 147, 100, 54]\n",
      "[255, 235, 154, 150, 140, 179, 256, 209, 224, 172, 174, 176, 148]\n",
      "[325, 246, 187, 178, 256, 329, 273, 302, 263, 242, 193, 233]\n",
      "[378, 317, 231, 321, 354, 372, 393, 354, 360, 293, 247]\n",
      "[419, 365, 393, 387, 419, 425, 430, 376, 454, 322]\n",
      "[460, 434, 419, 475, 508, 470, 510, 524, 487]\n",
      "[559, 499, 479, 536, 514, 526, 594, 616]\n",
      "[647, 501, 613, 609, 533, 657, 683]\n",
      "[666, 614, 636, 684, 660, 717]\n",
      "[686, 640, 766, 731, 782]\n",
      "[704, 801, 853, 792]\n",
      "[818, 900, 935]\n",
      "[995, 999]\n"
     ]
    }
   ],
   "source": [
    "pyramid = [[75],[95, 64],[17, 47, 82],[18, 35, 87, 10],[20, 4, 82, 47, 65],[19, 1, 23, 75, 3, 34],[88, 2, 77, 73, 7, 63, 67],[99, 65, 4, 28, 6, 16, 70, 92],[41, 41, 26, 56, 83, 40, 80, 70, 33],[41, 48, 72, 33, 47, 32, 37, 16, 94, 29],[53, 71, 44, 65, 25, 43, 91, 52, 97, 51, 14],[70, 11, 33, 28, 77, 73, 17, 78, 39, 68, 17, 57],[91, 71, 52, 38, 17, 14, 91, 43, 58, 50, 27, 29, 48],[63, 66, 4, 68, 89, 53, 67, 30, 73, 16, 69, 87, 40, 31],[4, 62, 98, 27, 23, 9, 70, 98, 73, 93, 38, 53, 60, 4, 23]]\n",
    "for y in range(len(pyramid)-2,0,-1):\n",
    "    for x in range(0,len(pyramid[y]),1):\n",
    "        pyramid[y][x] += max([pyramid[y+1][x], pyramid[y+1][x+1]])\n",
    "    print(pyramid[y]) \n",
    "        \n",
    "        \n",
    "        \n",
    "        "
   ]
  },
  {
   "cell_type": "code",
   "execution_count": 82,
   "metadata": {},
   "outputs": [],
   "source": [
    "result = 75+999"
   ]
  },
  {
   "cell_type": "code",
   "execution_count": null,
   "metadata": {},
   "outputs": [],
   "source": []
  }
 ],
 "metadata": {
  "kernelspec": {
   "display_name": "Python 3",
   "language": "python",
   "name": "python3"
  },
  "language_info": {
   "codemirror_mode": {
    "name": "ipython",
    "version": 3
   },
   "file_extension": ".py",
   "mimetype": "text/x-python",
   "name": "python",
   "nbconvert_exporter": "python",
   "pygments_lexer": "ipython3",
   "version": "3.7.4"
  }
 },
 "nbformat": 4,
 "nbformat_minor": 4
}
