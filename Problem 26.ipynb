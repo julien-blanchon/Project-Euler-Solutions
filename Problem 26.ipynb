{
 "cells": [
  {
   "cell_type": "markdown",
   "metadata": {},
   "source": [
    "# Reciprocal cycles\n",
    "## Problem 26"
   ]
  },
  {
   "cell_type": "markdown",
   "metadata": {},
   "source": [
    "[html]!\n",
    "<div class=\"problem_content\" role=\"problem\">\n",
    "\n",
    "<p>A unit fraction contains 1 in the numerator. The decimal representation of the unit fractions with denominators 2 to 10 are given:</p>\n",
    "<blockquote>\n",
    "<table><tbody><tr><td><sup>1</sup>/<sub>2</sub></td><td>=&nbsp;</td><td>0.5</td>\n",
    "</tr><tr><td><sup>1</sup>/<sub>3</sub></td><td>=&nbsp;</td><td>0.(3)</td>\n",
    "</tr><tr><td><sup>1</sup>/<sub>4</sub></td><td>=&nbsp;</td><td>0.25</td>\n",
    "</tr><tr><td><sup>1</sup>/<sub>5</sub></td><td>=&nbsp;</td><td>0.2</td>\n",
    "</tr><tr><td><sup>1</sup>/<sub>6</sub></td><td>=&nbsp;</td><td>0.1(6)</td>\n",
    "</tr><tr><td><sup>1</sup>/<sub>7</sub></td><td>=&nbsp;</td><td>0.(142857)</td>\n",
    "</tr><tr><td><sup>1</sup>/<sub>8</sub></td><td>=&nbsp;</td><td>0.125</td>\n",
    "</tr><tr><td><sup>1</sup>/<sub>9</sub></td><td>=&nbsp;</td><td>0.(1)</td>\n",
    "</tr><tr><td><sup>1</sup>/<sub>10</sub></td><td>=&nbsp;</td><td>0.1</td>\n",
    "</tr></tbody></table></blockquote>\n",
    "<p>Where 0.1(6) means 0.166666..., and has a 1-digit recurring cycle. It can be seen that <sup>1</sup>/<sub>7</sub> has a 6-digit recurring cycle.</p>\n",
    "<p>Find the value of <i>d</i> &lt; 1000 for which <sup>1</sup>/<sub><i>d</i></sub> contains the longest recurring cycle in its decimal fraction part.</p>\n",
    "\n",
    "</div>"
   ]
  },
  {
   "cell_type": "markdown",
   "metadata": {},
   "source": [
    "# Idee"
   ]
  },
  {
   "cell_type": "markdown",
   "metadata": {},
   "source": [
    "$$ \\frac{1}{d} = 0.142857142857142857.. = 0.142857142857.. $$\n",
    "$$ 10^{6}\\frac{1}{d} = 142857.142857142857.. = 142857.142857.. $$\n",
    "$$ 10^{6}\\frac{1}{d} - \\frac{1}{d} = 142857 $$\n",
    "$$ 10^{6} - 1 = d*142857 $$\n",
    "$$ \\text{Soit donc : } 10^6 \\equiv 1 [d]$$\n",
    "$$ \\text{Plus generalement soit n=longeur_du_patern=ceil(log10(pattern)): } 10^n \\equiv 1 [d]$$\n"
   ]
  },
  {
   "cell_type": "code",
   "execution_count": 8,
   "metadata": {},
   "outputs": [
    {
     "data": {
      "text/plain": [
       "1"
      ]
     },
     "execution_count": 8,
     "metadata": {},
     "output_type": "execute_result"
    }
   ],
   "source": []
  },
  {
   "cell_type": "code",
   "execution_count": null,
   "metadata": {},
   "outputs": [],
   "source": []
  }
 ],
 "metadata": {
  "kernelspec": {
   "display_name": "Python 3",
   "language": "python",
   "name": "python3"
  },
  "language_info": {
   "codemirror_mode": {
    "name": "ipython",
    "version": 3
   },
   "file_extension": ".py",
   "mimetype": "text/x-python",
   "name": "python",
   "nbconvert_exporter": "python",
   "pygments_lexer": "ipython3",
   "version": "3.7.4"
  }
 },
 "nbformat": 4,
 "nbformat_minor": 4
}
