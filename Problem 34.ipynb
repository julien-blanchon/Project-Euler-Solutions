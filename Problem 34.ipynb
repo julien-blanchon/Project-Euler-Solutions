{
 "cells": [
  {
   "cell_type": "markdown",
   "metadata": {},
   "source": [
    "# Digit factorials\n",
    "## Problem 34"
   ]
  },
  {
   "cell_type": "markdown",
   "metadata": {},
   "source": [
    "<div class=\"problem_content\" role=\"problem\">\n",
    "\n",
    "<p>145 is a curious number, as 1! + 4! + 5! = 1 + 24 + 120 = 145.</p>\n",
    "<p>Find the sum of all numbers which are equal to the sum of the factorial of their digits.</p>\n",
    "<p class=\"info\">Note: as 1! = 1 and 2! = 2 are not sums they are not included.</p>\n",
    "\n",
    "</div>"
   ]
  },
  {
   "cell_type": "code",
   "execution_count": 20,
   "metadata": {},
   "outputs": [],
   "source": [
    "def fact(nb):\n",
    "    if nb<=1:\n",
    "        return 1\n",
    "    else:\n",
    "        return nb*fact(nb-1)\n",
    "    \n",
    "def compute():\n",
    "    solution = 0\n",
    "    for number in range(3,1000000):\n",
    "        if sum([fact(int(k)) for k in str(number)]) == number:\n",
    "            print(number)\n",
    "            solution += number\n",
    "    return solution"
   ]
  },
  {
   "cell_type": "code",
   "execution_count": 21,
   "metadata": {},
   "outputs": [
    {
     "name": "stdout",
     "output_type": "stream",
     "text": [
      "145\n",
      "40585\n",
      "CPU times: user 6.62 s, sys: 12.6 ms, total: 6.63 s\n",
      "Wall time: 6.65 s\n"
     ]
    },
    {
     "data": {
      "text/plain": [
       "40730"
      ]
     },
     "execution_count": 21,
     "metadata": {},
     "output_type": "execute_result"
    }
   ],
   "source": [
    "%%time\n",
    "compute()"
   ]
  },
  {
   "cell_type": "code",
   "execution_count": null,
   "metadata": {},
   "outputs": [],
   "source": []
  }
 ],
 "metadata": {
  "kernelspec": {
   "display_name": "Python 3",
   "language": "python",
   "name": "python3"
  },
  "language_info": {
   "codemirror_mode": {
    "name": "ipython",
    "version": 3
   },
   "file_extension": ".py",
   "mimetype": "text/x-python",
   "name": "python",
   "nbconvert_exporter": "python",
   "pygments_lexer": "ipython3",
   "version": "3.7.4"
  }
 },
 "nbformat": 4,
 "nbformat_minor": 4
}
